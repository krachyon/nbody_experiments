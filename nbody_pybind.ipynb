{
 "cells": [
  {
   "cell_type": "code",
   "execution_count": 2,
   "metadata": {},
   "outputs": [
    {
     "name": "stdout",
     "output_type": "stream",
     "text": [
      "Using matplotlib backend: Qt5Agg\n",
      "Populating the interactive namespace from numpy and matplotlib\n"
     ]
    }
   ],
   "source": [
    "%pylab\n",
    "import matplotlib.animation as animation\n",
    "plt.ion()\n",
    "numpy.random.seed(seed=424242)"
   ]
  },
  {
   "cell_type": "code",
   "execution_count": 3,
   "metadata": {},
   "outputs": [],
   "source": [
    "from build_release import nbody\n",
    "import importlib\n",
    "importlib.reload(nbody)\n",
    "nbody.init_threads(1)"
   ]
  },
  {
   "cell_type": "code",
   "execution_count": 26,
   "metadata": {},
   "outputs": [],
   "source": [
    "# from IPython.display import HTML\n",
    "from ipywidgets import widgets\n",
    "from ipywidgets.widgets import FloatSlider, Layout, IntSlider\n",
    "%matplotlib qt\n",
    "\n",
    "\n",
    "fig = plt.figure(figsize=(15,15))\n",
    "ax = plt.axes()\n",
    "\n",
    "datas = ax.scatter([], [], [])\n",
    "plt.tight_layout()\n",
    "\n",
    "def make_animation(G,ε,Δt,friction):\n",
    "    \n",
    "    param.G = G\n",
    "    param.easing = ε\n",
    "    param.friction = friction\n",
    "    param.dt = Δt\n",
    "    sim.param=param\n",
    "    \n",
    "    datas.set_offsets(xs)\n",
    "    datas.set_sizes(ms.ravel() * 3)\n",
    "\n",
    "    ax.set_xlim(min(xs[:,0]),max(xs[:,0]))\n",
    "    ax.set_ylim(min(xs[:,1]),max(xs[:,1]))    \n",
    "    \n",
    "    \n",
    "    def animate(i):\n",
    "        sim.step(5)\n",
    "        #if i%100 == 0:    \n",
    "        #vs = -vs\n",
    "        return datas,\n",
    "    \n",
    "    ani = animation.FuncAnimation(fig, animate, frames=range(1000), interval=1000/25, blit = False)\n",
    "    return ani\n",
    "\n",
    "\n",
    "sliders = {\n",
    "    'G' : FloatSlider(0.1, min=0., max=1., step=0.001, layout=Layout(width='100%')),\n",
    "    'ε' : FloatSlider(0.1, min=0., max=1., step=0.001, layout=Layout(width='100%')),\n",
    "    'Δt': FloatSlider(0.0001, min=0.00001, max=0.001, step=0.000001, layout=Layout(width='100%')),\n",
    "    'friction': FloatSlider(0.0, min=0., max=0.01, step=0.0001, layout=Layout(width='100%')),\n",
    "}\n",
    "#widgets.interact(make_animation, **sliders)\n",
    "#make_animation(0.1,0.1,0.001,0.)"
   ]
  },
  {
   "cell_type": "code",
   "execution_count": 30,
   "metadata": {},
   "outputs": [
    {
     "data": {
      "application/vnd.jupyter.widget-view+json": {
       "model_id": "9a372fece90b4475b8a7b2ed93ee4ac4",
       "version_major": 2,
       "version_minor": 0
      },
      "text/plain": [
       "interactive(children=(FloatSlider(value=0.1, description='G', layout=Layout(width='100%'), max=1.0, step=0.001…"
      ]
     },
     "metadata": {},
     "output_type": "display_data"
    },
    {
     "data": {
      "text/plain": [
       "<function __main__.make_animation(G, ε, Δt, friction)>"
      ]
     },
     "execution_count": 30,
     "metadata": {},
     "output_type": "execute_result"
    }
   ],
   "source": [
    "npart=100\n",
    "ms = np.random.exponential(3,npart).reshape(-1,1)    \n",
    "xs = np.random.uniform(-20,20,size=(npart,2))\n",
    "vs = np.zeros((npart,2)) \n",
    "param = nbody.SimulationParameters()\n",
    "sim = nbody.EulerSimulation(param,xs,vs,ms)\n",
    "\n",
    "widgets.interact(make_animation, **sliders)"
   ]
  },
  {
   "cell_type": "code",
   "execution_count": null,
   "metadata": {},
   "outputs": [],
   "source": [
    "npart = 100\n",
    "xs = np.random.uniform(-0.5,0.5,size=(npart,2))\n",
    "#vs = np.random.normal(0,5,(npart,2))\n",
    "vs = np.zeros((npart,2))\n",
    "ms = np.random.exponential(3,npart).reshape(-1,1)\n",
    "%timeit nbody.step(xs,vs,ms,100)"
   ]
  },
  {
   "cell_type": "code",
   "execution_count": null,
   "metadata": {},
   "outputs": [],
   "source": [
    "def make_scatter(N):\n",
    "    foo = np.random.uniform(-20,20,size=(100,2))\n",
    "    plt.scatter(foo[:,0], foo[:,1])\n",
    "    \n",
    "n_slider = IntSlider(10,min=2,max=200)    \n",
    "widgets.interact(make_scatter, N=n_slider)"
   ]
  },
  {
   "cell_type": "code",
   "execution_count": null,
   "metadata": {},
   "outputs": [],
   "source": [
    "\n",
    "param = nbody.SimulationParameters()\n",
    "\n",
    "sim = nbody.EulerSimulation(param,xs,vs,ms)\n",
    "sim.step(100)\n",
    "#plt.scatter(xs[:,0], xs[:,1], s=4*ms)"
   ]
  },
  {
   "cell_type": "code",
   "execution_count": null,
   "metadata": {},
   "outputs": [],
   "source": []
  }
 ],
 "metadata": {
  "kernelspec": {
   "display_name": "Python 3",
   "language": "python",
   "name": "python3"
  },
  "language_info": {
   "codemirror_mode": {
    "name": "ipython",
    "version": 3
   },
   "file_extension": ".py",
   "mimetype": "text/x-python",
   "name": "python",
   "nbconvert_exporter": "python",
   "pygments_lexer": "ipython3",
   "version": "3.8.0"
  }
 },
 "nbformat": 4,
 "nbformat_minor": 2
}
