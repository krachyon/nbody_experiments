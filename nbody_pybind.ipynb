{
 "cells": [
  {
   "cell_type": "code",
   "execution_count": 1,
   "metadata": {
    "pycharm": {
     "is_executing": false
    }
   },
   "outputs": [
    {
     "name": "stdout",
     "output_type": "stream",
     "text": [
      "Using matplotlib backend: Qt5Agg\n",
      "Populating the interactive namespace from numpy and matplotlib\n"
     ]
    }
   ],
   "source": [
    "%pylab\n",
    "import matplotlib.animation as animation\n",
    "plt.ion()\n",
    "\n",
    "numpy.random.seed(seed=424242)"
   ]
  },
  {
   "cell_type": "code",
   "execution_count": 2,
   "metadata": {
    "pycharm": {
     "is_executing": false
    }
   },
   "outputs": [],
   "source": [
    "from build_release import nbody\n",
    "import importlib\n",
    "\n",
    "importlib.reload(nbody)\n",
    "nbody.init_threads(1)"
   ]
  },
  {
   "cell_type": "code",
   "execution_count": 15,
   "metadata": {
    "pycharm": {
     "is_executing": false
    }
   },
   "outputs": [],
   "source": [
    "# from IPython.display import HTML\n",
    "from ipywidgets import widgets\n",
    "from ipywidgets.widgets import FloatSlider, Layout, IntSlider, FloatLogSlider\n",
    "%matplotlib qt\n",
    "\n",
    "fig = plt.figure(figsize=(15, 15))\n",
    "ax = plt.axes()\n",
    "\n",
    "datas = ax.scatter([], [], [])\n",
    "plt.tight_layout()\n",
    "\n",
    "\n",
    "def make_animation(G, ε, Δt, friction):\n",
    "\n",
    "    param.G = G\n",
    "    param.easing = ε\n",
    "    param.friction = friction\n",
    "    param.dt = Δt\n",
    "    sim.param = param\n",
    "\n",
    "    datas.set_offsets(xs)\n",
    "    datas.set_sizes(ms.ravel() * 3)\n",
    "\n",
    "    ax.set_xlim(min(xs[:, 0]), max(xs[:, 0]))\n",
    "    ax.set_ylim(min(xs[:, 1]), max(xs[:, 1]))\n",
    "\n",
    "    def animate(i):\n",
    "        sim.step(5)\n",
    "        # if i%100 == 0:\n",
    "        #vs = -vs\n",
    "        return datas,\n",
    "\n",
    "    ani = animation.FuncAnimation(\n",
    "        fig, animate, frames=range(1000), interval=1000/30, blit=False)\n",
    "    return ani\n",
    "\n",
    "\n",
    "sliders = {\n",
    "    'G': FloatSlider(0.1, min=0., max=1., step=0.0001, layout=Layout(width='100%'), readout_format='.5e'),\n",
    "    'ε': FloatSlider(0.1, min=0., max=5., step=0.001, layout=Layout(width='100%'), readout_format='.5e'),\n",
    "    'Δt': FloatLogSlider(1e-4, base=10, min=-6, max=-2, step=0.01, layout=Layout(width='100%'), readout_format='.5e'),\n",
    "    'friction': FloatSlider(0.0, min=0., max=0.1, step=0.00001, layout=Layout(width='100%'), readout_format='.5e'),\n",
    "}\n",
    "#widgets.interact(make_animation, **sliders)\n",
    "# make_animation(0.1,0.1,0.001,0.)"
   ]
  },
  {
   "cell_type": "code",
   "execution_count": 16,
   "metadata": {
    "pycharm": {
     "is_executing": false
    }
   },
   "outputs": [],
   "source": [
    "npart=200\n",
    "#ms_orig = np.random.uniform(4,10,npart).reshape(-1,1)    \n",
    "ms_orig = np.random.gamma(shape=7,scale=1,size=npart).reshape(-1,1)   \n",
    "xs_orig = np.random.uniform(-20,20,size=(npart,2))\n",
    "vs_orig = np.zeros((npart,2)) "
   ]
  },
  {
   "cell_type": "code",
   "execution_count": 4,
   "metadata": {
    "pycharm": {
     "is_executing": false
    }
   },
   "outputs": [
    {
     "ename": "NameError",
     "evalue": "name 'ms_orig' is not defined",
     "output_type": "error",
     "traceback": [
      "\u001b[0;31m---------------------------------------------------------------------------\u001b[0m",
      "\u001b[0;31mNameError\u001b[0m                                 Traceback (most recent call last)",
      "\u001b[0;32m<ipython-input-4-6ec002dec31d>\u001b[0m in \u001b[0;36m<module>\u001b[0;34m\u001b[0m\n\u001b[0;32m----> 1\u001b[0;31m \u001b[0mms\u001b[0m \u001b[0;34m=\u001b[0m \u001b[0mms_orig\u001b[0m\u001b[0;34m.\u001b[0m\u001b[0mcopy\u001b[0m\u001b[0;34m(\u001b[0m\u001b[0;34m)\u001b[0m\u001b[0;34m\u001b[0m\u001b[0;34m\u001b[0m\u001b[0m\n\u001b[0m\u001b[1;32m      2\u001b[0m \u001b[0mxs\u001b[0m \u001b[0;34m=\u001b[0m \u001b[0mxs_orig\u001b[0m\u001b[0;34m.\u001b[0m\u001b[0mcopy\u001b[0m\u001b[0;34m(\u001b[0m\u001b[0;34m)\u001b[0m\u001b[0;34m\u001b[0m\u001b[0;34m\u001b[0m\u001b[0m\n\u001b[1;32m      3\u001b[0m \u001b[0mvs\u001b[0m \u001b[0;34m=\u001b[0m \u001b[0mvs_orig\u001b[0m\u001b[0;34m.\u001b[0m\u001b[0mcopy\u001b[0m\u001b[0;34m(\u001b[0m\u001b[0;34m)\u001b[0m\u001b[0;34m\u001b[0m\u001b[0;34m\u001b[0m\u001b[0m\n\u001b[1;32m      4\u001b[0m \u001b[0mparam\u001b[0m \u001b[0;34m=\u001b[0m \u001b[0mnbody\u001b[0m\u001b[0;34m.\u001b[0m\u001b[0mSimulationParameters\u001b[0m\u001b[0;34m(\u001b[0m\u001b[0;34m)\u001b[0m\u001b[0;34m\u001b[0m\u001b[0;34m\u001b[0m\u001b[0m\n\u001b[1;32m      5\u001b[0m \u001b[0msim\u001b[0m \u001b[0;34m=\u001b[0m \u001b[0mnbody\u001b[0m\u001b[0;34m.\u001b[0m\u001b[0mEulerSimulation\u001b[0m\u001b[0;34m(\u001b[0m\u001b[0mparam\u001b[0m\u001b[0;34m,\u001b[0m\u001b[0mxs\u001b[0m\u001b[0;34m,\u001b[0m\u001b[0mvs\u001b[0m\u001b[0;34m,\u001b[0m\u001b[0mms\u001b[0m\u001b[0;34m)\u001b[0m\u001b[0;34m\u001b[0m\u001b[0;34m\u001b[0m\u001b[0m\n",
      "\u001b[0;31mNameError\u001b[0m: name 'ms_orig' is not defined"
     ]
    }
   ],
   "source": [
    "ms = ms_orig.copy()\n",
    "xs = xs_orig.copy()\n",
    "vs = vs_orig.copy()\n",
    "param = nbody.SimulationParameters()\n",
    "sim = nbody.EulerSimulation(param,xs,vs,ms)\n",
    "#sim = nbody.VerletSimulation(param,xs,vs,ms)\n",
    "\n",
    "widgets.interact(make_animation, **sliders)"
   ]
  },
  {
   "cell_type": "code",
   "execution_count": 11,
   "metadata": {},
   "outputs": [
    {
     "data": {
      "application/vnd.jupyter.widget-view+json": {
       "model_id": "4e36fdc9bfcd4954b7675f3586ca545f",
       "version_major": 2,
       "version_minor": 0
      },
      "text/plain": [
       "interactive(children=(FloatSlider(value=0.1, description='G', layout=Layout(width='100%'), max=1.0, readout_fo…"
      ]
     },
     "metadata": {},
     "output_type": "display_data"
    },
    {
     "data": {
      "text/plain": [
       "<function __main__.make_animation(G, ε, Δt, friction)>"
      ]
     },
     "execution_count": 11,
     "metadata": {},
     "output_type": "execute_result"
    }
   ],
   "source": [
    "npart=100\n",
    "ms = np.array([100.,1])\n",
    "xs = np.array([[0.,0],[5.,0]])\n",
    "vs = np.array([[0,0],[0.,5.]])\n",
    "param = nbody.SimulationParameters()\n",
    "sim = nbody.EulerSimulation(param,xs,vs,ms)\n",
    "\n",
    "widgets.interact(make_animation, **sliders)"
   ]
  },
  {
   "cell_type": "code",
   "execution_count": 49,
   "metadata": {},
   "outputs": [
    {
     "data": {
      "text/plain": [
       "<matplotlib.collections.PathCollection at 0x7f3a89c00f10>"
      ]
     },
     "execution_count": 49,
     "metadata": {},
     "output_type": "execute_result"
    }
   ],
   "source": [
    "npart = 100\n",
    "ms = np.random.exponential(3,npart).reshape(-1,1)    \n",
    "xs = np.random.uniform(-20,20,size=(npart,2))\n",
    "vs = np.zeros((npart,2)) \n",
    "param = nbody.SimulationParameters()\n",
    "sim = nbody.VerletSimulation(param,xs,vs,ms)\n",
    "\n",
    "plt.scatter(xs[:,0], xs[:,1], s=4*ms)"
   ]
  },
  {
   "cell_type": "code",
   "execution_count": 21,
   "metadata": {},
   "outputs": [
    {
     "data": {
      "text/plain": [
       "<matplotlib.collections.PathCollection at 0x7f6f9c2362b0>"
      ]
     },
     "execution_count": 21,
     "metadata": {},
     "output_type": "execute_result"
    }
   ],
   "source": [
    "sim.step(10)\n",
    "plt.scatter(xs[:,0], xs[:,1], s=4*ms)"
   ]
  },
  {
   "cell_type": "code",
   "execution_count": 27,
   "metadata": {},
   "outputs": [
    {
     "data": {
      "text/plain": [
       "<matplotlib.collections.PathCollection at 0x7f6f9404e700>"
      ]
     },
     "execution_count": 27,
     "metadata": {},
     "output_type": "execute_result"
    }
   ],
   "source": [
    "npart = 100\n",
    "ms = np.array([1.,10.])\n",
    "xs = np.array([[1.,0.],[0.,0.]])\n",
    "vs = np.zeros((2,2)) \n",
    "param = nbody.SimulationParameters()\n",
    "sim = nbody.VerletSimulation(param,xs,vs,ms)\n",
    "\n",
    "plt.scatter(xs[:,0], xs[:,1], s=4*ms)"
   ]
  },
  {
   "cell_type": "code",
   "execution_count": 31,
   "metadata": {},
   "outputs": [],
   "source": [
    "for i in range(10):\n",
    "    sim.step(1)\n",
    "    plt.scatter(xs[:,0], xs[:,1], s=4*ms)"
   ]
  },
  {
   "cell_type": "code",
   "execution_count": 18,
   "metadata": {
    "pycharm": {
     "is_executing": false
    }
   },
   "outputs": [
    {
     "data": {
      "application/vnd.jupyter.widget-view+json": {
       "model_id": "7283286b5fb6403dbd2198dd0eaa8883",
       "version_major": 2,
       "version_minor": 0
      },
      "text/plain": [
       "interactive(children=(FloatSlider(value=0.1, description='G', layout=Layout(width='100%'), max=1.0, readout_fo…"
      ]
     },
     "metadata": {},
     "output_type": "display_data"
    },
    {
     "data": {
      "text/plain": [
       "<function __main__.make_animation(G, ε, Δt, friction)>"
      ]
     },
     "execution_count": 18,
     "metadata": {},
     "output_type": "execute_result"
    }
   ],
   "source": [
    "ms = ms_orig.copy()\n",
    "xs = xs_orig.copy()\n",
    "vs = vs_orig.copy()\n",
    "#ms = np.array([1.,10.])\n",
    "#xs = np.array([[1.,0.],[0.,0.]])\n",
    "#vs = np.zeros((2,2))\n",
    "param = nbody.SimulationParameters()\n",
    "sim = nbody.LeapfrogSimulation(param,xs,vs,ms)\n",
    "\n",
    "widgets.interact(make_animation, **sliders)\n",
    "\n"
   ]
  },
  {
   "cell_type": "code",
   "execution_count": 14,
   "metadata": {
    "pycharm": {
     "name": "#%%\n"
    }
   },
   "outputs": [
    {
     "name": "stdout",
     "output_type": "stream",
     "text": [
      "1.69 ms ± 46.6 µs per loop (mean ± std. dev. of 7 runs, 1000 loops each)\n",
      "481 µs ± 12.9 µs per loop (mean ± std. dev. of 7 runs, 1000 loops each)\n"
     ]
    }
   ],
   "source": [
    "lf = nbody.LeapfrogSimulation(param,xs_orig,vs_orig,ms_orig)\n",
    "eu = nbody.EulerSimulation(param,xs_orig,vs_orig,ms_orig)\n",
    "\n",
    "%timeit lf.step(10)\n",
    "%timeit eu.step(10)"
   ]
  },
  {
   "cell_type": "code",
   "execution_count": null,
   "metadata": {},
   "outputs": [],
   "source": []
  },
  {
   "cell_type": "code",
   "execution_count": null,
   "metadata": {},
   "outputs": [],
   "source": []
  }
 ],
 "metadata": {
  "kernelspec": {
   "display_name": "Python 3",
   "language": "python",
   "name": "python3"
  },
  "language_info": {
   "codemirror_mode": {
    "name": "ipython",
    "version": 3
   },
   "file_extension": ".py",
   "mimetype": "text/x-python",
   "name": "python",
   "nbconvert_exporter": "python",
   "pygments_lexer": "ipython3",
   "version": "3.8.0"
  },
  "pycharm": {
   "stem_cell": {
    "cell_type": "raw",
    "metadata": {
     "collapsed": false
    },
    "source": []
   }
  }
 },
 "nbformat": 4,
 "nbformat_minor": 2
}
