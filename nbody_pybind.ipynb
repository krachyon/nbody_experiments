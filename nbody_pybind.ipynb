{
 "cells": [
  {
   "cell_type": "code",
   "execution_count": 1,
   "metadata": {},
   "outputs": [
    {
     "name": "stdout",
     "output_type": "stream",
     "text": [
      "Using matplotlib backend: Qt5Agg\n",
      "Populating the interactive namespace from numpy and matplotlib\n"
     ]
    }
   ],
   "source": [
    "%pylab\n",
    "import matplotlib.animation as animation\n",
    "plt.ion()"
   ]
  },
  {
   "cell_type": "code",
   "execution_count": 2,
   "metadata": {},
   "outputs": [],
   "source": [
    "from build_release import nbody\n",
    "import importlib\n",
    "importlib.reload(nbody)\n",
    "nbody.init_threads()"
   ]
  },
  {
   "cell_type": "code",
   "execution_count": 13,
   "metadata": {},
   "outputs": [],
   "source": [
    "npart = 500\n",
    "xs = np.random.uniform(-20,20,size=(npart,2))\n",
    "#vs = np.random.normal(0,5,(npart,2))\n",
    "vs = np.zeros((npart+1,2))\n",
    "ms = np.random.exponential(3,npart).reshape(-1,1)\n",
    "\n",
    "xs_orig,vs_orig,ms_orig = xs.copy(),vs.copy(),ms.copy()"
   ]
  },
  {
   "cell_type": "code",
   "execution_count": 6,
   "metadata": {},
   "outputs": [
    {
     "data": {
      "text/plain": [
       "<matplotlib.collections.PathCollection at 0x7efbc22db0d0>"
      ]
     },
     "execution_count": 6,
     "metadata": {},
     "output_type": "execute_result"
    },
    {
     "data": {
      "image/png": "[encoded data removed]",
      "text/plain": [
       "<Figure size 432x288 with 1 Axes>"
      ]
     },
     "metadata": {
      "needs_background": "light"
     },
     "output_type": "display_data"
    }
   ],
   "source": [
    "nbody.step(xs,vs,ms,2)\n",
    "plt.scatter(xs[:,0], xs[:,1], s=4*ms)"
   ]
  },
  {
   "cell_type": "code",
   "execution_count": 4,
   "metadata": {},
   "outputs": [],
   "source": []
  },
  {
   "cell_type": "code",
   "execution_count": 16,
   "metadata": {},
   "outputs": [],
   "source": [
    "from IPython.display import HTML\n",
    "%matplotlib qt\n",
    "def animate(i):\n",
    "    global vs\n",
    "    nbody.step(xs,vs,ms,50)\n",
    "    #if i%100 == 0:    \n",
    "    #vs = -vs\n",
    "    return datas,\n",
    "\n",
    "\n",
    "fig = plt.figure()\n",
    "ax = plt.axes()\n",
    "ax.set_xlim(-7, 7)\n",
    "ax.set_ylim(-7, 7)\n",
    "datas = ax.scatter([], [], [])\n",
    "datas.set_offsets(xs)\n",
    "datas.set_sizes(ms.ravel() * 3)\n",
    "\n",
    "ani = animation.FuncAnimation(fig, animate, frames=range(1000), interval=1000/25, blit = False)\n",
    "#HTML(ani.to_jshtml())"
   ]
  },
  {
   "cell_type": "code",
   "execution_count": 5,
   "metadata": {},
   "outputs": [
    {
     "name": "stdout",
     "output_type": "stream",
     "text": [
      "6.57 ms ± 4.46 µs per loop (mean ± std. dev. of 7 runs, 100 loops each)\n"
     ]
    }
   ],
   "source": [
    "npart = 100\n",
    "xs = np.random.uniform(-0.5,0.5,size=(npart,2))\n",
    "#vs = np.random.normal(0,5,(npart,2))\n",
    "vs = np.zeros((npart,2))\n",
    "ms = np.random.exponential(3,npart).reshape(-1,1)\n",
    "%timeit nbody.step(xs,vs,ms,100)"
   ]
  },
  {
   "cell_type": "code",
   "execution_count": 8,
   "metadata": {},
   "outputs": [
    {
     "data": {
      "text/plain": [
       "array([[  1.60776328,  -8.01180586],\n",
       "       [ -0.33930326,  -4.6922438 ],\n",
       "       [ -2.27969589,  -1.64869549],\n",
       "       [-24.63057198,   6.86851754],\n",
       "       [  0.38761623,  -3.06547955],\n",
       "       [  0.36726595,  -5.84741862],\n",
       "       [ -5.250576  ,  -3.44997146],\n",
       "       [ -4.76600858,   2.91557235],\n",
       "       [  4.73299429,   2.70262617],\n",
       "       [  1.49366114,  -8.35809567],\n",
       "       [ -0.49247272,  -8.58685587],\n",
       "       [ -0.69041477,  -6.52316713],\n",
       "       [ -9.0349297 , -13.80064214],\n",
       "       [ 11.78197098,  13.3450501 ],\n",
       "       [ -4.06648131,  -3.19133274],\n",
       "       [ -4.76830432,  -4.2524915 ],\n",
       "       [ -0.7828288 ,  -7.51731957],\n",
       "       [  0.8498447 ,  -3.70813156],\n",
       "       [ -5.29938821,   1.65711974],\n",
       "       [  5.96743465,  17.48539578]])"
      ]
     },
     "execution_count": 8,
     "metadata": {},
     "output_type": "execute_result"
    }
   ],
   "source": [
    "xs"
   ]
  },
  {
   "cell_type": "code",
   "execution_count": null,
   "metadata": {},
   "outputs": [],
   "source": []
  }
 ],
 "metadata": {
  "kernelspec": {
   "display_name": "Python 3",
   "language": "python",
   "name": "python3"
  },
  "language_info": {
   "codemirror_mode": {
    "name": "ipython",
    "version": 3
   },
   "file_extension": ".py",
   "mimetype": "text/x-python",
   "name": "python",
   "nbconvert_exporter": "python",
   "pygments_lexer": "ipython3",
   "version": "3.8.0"
  }
 },
 "nbformat": 4,
 "nbformat_minor": 2
}
