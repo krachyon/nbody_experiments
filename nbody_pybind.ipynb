{
 "cells": [
  {
   "cell_type": "code",
   "execution_count": 1,
   "metadata": {
    "pycharm": {
     "is_executing": false
    }
   },
   "outputs": [
    {
     "name": "stdout",
     "output_type": "stream",
     "text": [
      "Using matplotlib backend: Qt5Agg\n",
      "Populating the interactive namespace from numpy and matplotlib\n"
     ]
    }
   ],
   "source": [
    "%pylab\n",
    "import matplotlib.animation as animation\n",
    "from build_release import nbody\n",
    "\n",
    "plt.ion()\n",
    "nbody.init_threads(1)\n"
   ]
  },
  {
   "cell_type": "markdown",
   "metadata": {},
   "source": [
    "# Setup animation"
   ]
  },
  {
   "cell_type": "code",
   "execution_count": 2,
   "metadata": {
    "pycharm": {
     "is_executing": false
    }
   },
   "outputs": [],
   "source": [
    "# from IPython.display import HTML\n",
    "from ipywidgets import widgets\n",
    "from ipywidgets.widgets import FloatSlider, Layout, IntSlider, FloatLogSlider\n",
    "%matplotlib qt\n",
    "\n",
    "def make_animation(G, ε_square, Δt, friction):\n",
    "\n",
    "    param.G = G\n",
    "    param.easing = ε_square\n",
    "    param.friction = friction\n",
    "    param.dt = Δt\n",
    "    sim.param = param\n",
    "\n",
    "    datas.set_offsets(xs)\n",
    "    datas.set_sizes(ms.ravel() * 3)\n",
    "\n",
    "    ax.set_xlim(min(xs[:, 0]), max(xs[:, 0]))\n",
    "    ax.set_ylim(min(xs[:, 1]), max(xs[:, 1]))\n",
    "\n",
    "    def animate(i):\n",
    "        sim.step(5)\n",
    "        # if i%100 == 0:\n",
    "        #vs = -vs\n",
    "        return datas,\n",
    "\n",
    "    ani = animation.FuncAnimation(\n",
    "        fig, animate, frames=range(1000), interval=1000/30, blit=False)\n",
    "    return ani\n",
    "\n",
    "\n",
    "sliders = {\n",
    "    'G': FloatSlider(0.1, min=0., max=1., step=0.0001, layout=Layout(width='100%'), readout_format='.5e'),\n",
    "    'ε_square': FloatSlider(0.001, min=0., max=10., step=0.001, layout=Layout(width='100%'), readout_format='.5e'),\n",
    "    'Δt': FloatLogSlider(5e-3, base=10, min=-4, max=-1, step=0.0001, layout=Layout(width='100%'), readout_format='.5e'),\n",
    "    'friction': FloatSlider(0.0, min=0., max=0.001, step=0.00001, layout=Layout(width='100%'), readout_format='.5e'),\n",
    "}\n",
    "\n"
   ]
  },
  {
   "cell_type": "markdown",
   "metadata": {},
   "source": [
    "# create initial conditions"
   ]
  },
  {
   "cell_type": "code",
   "execution_count": 10,
   "metadata": {
    "pycharm": {
     "is_executing": false
    }
   },
   "outputs": [],
   "source": [
    "numpy.random.seed(seed=424242)\n",
    "npart=250\n",
    "\n",
    "#ms_orig = np.random.uniform(4,10,npart).reshape(-1,1)    \n",
    "ms_orig = np.random.gamma(shape=7,scale=1,size=npart).reshape(-1,1)\n",
    "\n",
    "xs_orig = np.random.uniform(-30,30,size=(npart,2))\n",
    "vs_orig = np.zeros((npart,2)) "
   ]
  },
  {
   "cell_type": "markdown",
   "metadata": {},
   "source": [
    "# plot window"
   ]
  },
  {
   "cell_type": "code",
   "execution_count": 12,
   "metadata": {},
   "outputs": [],
   "source": [
    "fig = plt.figure(figsize=(15, 15))\n",
    "fignum = fig.number\n",
    "ax = plt.axes()\n",
    "\n",
    "datas = ax.scatter([], [], [])\n",
    "plt.tight_layout()"
   ]
  },
  {
   "cell_type": "markdown",
   "metadata": {},
   "source": [
    "# Euler integration"
   ]
  },
  {
   "cell_type": "code",
   "execution_count": 14,
   "metadata": {
    "pycharm": {
     "is_executing": false
    },
    "scrolled": false
   },
   "outputs": [
    {
     "data": {
      "application/vnd.jupyter.widget-view+json": {
       "model_id": "d4e372386f6a4d70b045d6807d92be22",
       "version_major": 2,
       "version_minor": 0
      },
      "text/plain": [
       "interactive(children=(FloatSlider(value=0.1, description='G', layout=Layout(width='100%'), max=1.0, readout_fo…"
      ]
     },
     "metadata": {},
     "output_type": "display_data"
    },
    {
     "data": {
      "text/plain": [
       "<function __main__.make_animation(G, ε_square, Δt, friction)>"
      ]
     },
     "execution_count": 14,
     "metadata": {},
     "output_type": "execute_result"
    }
   ],
   "source": [
    "ms = ms_orig.copy()\n",
    "xs = xs_orig.copy()\n",
    "vs = vs_orig.copy()\n",
    "param = nbody.SimulationParameters()\n",
    "sim = nbody.EulerSimulation(param,xs,vs,ms)\n",
    "\n",
    "widgets.interact(make_animation, **sliders)"
   ]
  },
  {
   "cell_type": "markdown",
   "metadata": {},
   "source": [
    "# Leapfrog integration"
   ]
  },
  {
   "cell_type": "code",
   "execution_count": 10,
   "metadata": {
    "pycharm": {
     "is_executing": false
    }
   },
   "outputs": [
    {
     "data": {
      "application/vnd.jupyter.widget-view+json": {
       "model_id": "47696876c9bb4a31a17c3f26abc2d571",
       "version_major": 2,
       "version_minor": 0
      },
      "text/plain": [
       "interactive(children=(FloatSlider(value=0.1, description='G', layout=Layout(width='100%'), max=1.0, readout_fo…"
      ]
     },
     "metadata": {},
     "output_type": "display_data"
    },
    {
     "data": {
      "text/plain": [
       "<function __main__.make_animation(G, ε_square, Δt, friction)>"
      ]
     },
     "execution_count": 10,
     "metadata": {},
     "output_type": "execute_result"
    }
   ],
   "source": [
    "ms = ms_orig.copy()\n",
    "xs = xs_orig.copy()\n",
    "vs = vs_orig.copy()\n",
    "#ms = np.array([1.,10.])\n",
    "#xs = np.array([[1.,0.],[0.,0.]])\n",
    "#vs = np.zeros((2,2))\n",
    "param = nbody.SimulationParameters()\n",
    "sim = nbody.LeapfrogSimulation(param,xs,vs,ms)\n",
    "\n",
    "widgets.interact(make_animation, **sliders)\n",
    "\n"
   ]
  },
  {
   "cell_type": "markdown",
   "metadata": {},
   "source": [
    "# \"Benchmark\""
   ]
  },
  {
   "cell_type": "code",
   "execution_count": null,
   "metadata": {
    "pycharm": {
     "name": "#%%\n"
    }
   },
   "outputs": [],
   "source": [
    "param = nbody.SimulationParameters()\n",
    "lf = nbody.LeapfrogSimulation(param,xs_orig.copy(),vs_orig.copy(),ms_orig.copy())\n",
    "eu = nbody.EulerSimulation(param,xs_orig.copy(),vs_orig.copy(),ms_orig.copy())\n",
    "\n",
    "%timeit lf.step(100)\n",
    "%timeit lf.step(1)\n",
    "\n",
    "%timeit eu.step(100)\n",
    "%timeit eu.step(1)\n"
   ]
  },
  {
   "cell_type": "code",
   "execution_count": 76,
   "metadata": {},
   "outputs": [
    {
     "data": {
      "application/vnd.jupyter.widget-view+json": {
       "model_id": "00e461fe88694952b152a25270b438b7",
       "version_major": 2,
       "version_minor": 0
      },
      "text/plain": [
       "interactive(children=(FloatSlider(value=0.1, description='G', layout=Layout(width='100%'), max=1.0, readout_fo…"
      ]
     },
     "metadata": {},
     "output_type": "display_data"
    },
    {
     "data": {
      "text/plain": [
       "<function __main__.make_animation(G, ε_square, Δt, friction)>"
      ]
     },
     "execution_count": 76,
     "metadata": {},
     "output_type": "execute_result"
    }
   ],
   "source": [
    "npart=100\n",
    "ms = np.array([100.,1])\n",
    "xs = np.array([[0.,0],[5.,0]])\n",
    "vs = np.array([[0,0],[0.,5.]])\n",
    "param = nbody.SimulationParameters()\n",
    "sim = nbody.EulerSimulation(param,xs,vs,ms)\n",
    "\n",
    "widgets.interact(make_animation, **sliders)"
   ]
  },
  {
   "cell_type": "code",
   "execution_count": null,
   "metadata": {},
   "outputs": [],
   "source": [
    "sim.step(10)\n",
    "plt.scatter(xs[:,0], xs[:,1], s=4*ms)\n",
    "for i in range(10):\n",
    "    sim.step(1)\n",
    "    plt.scatter(xs[:,0], xs[:,1], s=4*ms)"
   ]
  },
  {
   "cell_type": "code",
   "execution_count": null,
   "metadata": {},
   "outputs": [],
   "source": [
    "npart = 100\n",
    "ms = np.array([1.,10.])\n",
    "xs = np.array([[1.,0.],[0.,0.]])\n",
    "vs = np.zeros((2,2)) \n",
    "param = nbody.SimulationParameters()\n",
    "sim = nbody.VerletSimulation(param,xs,vs,ms)\n",
    "\n",
    "plt.scatter(xs[:,0], xs[:,1], s=4*ms)"
   ]
  },
  {
   "cell_type": "code",
   "execution_count": null,
   "metadata": {},
   "outputs": [],
   "source": [
    "npart = 100\n",
    "ms = np.random.exponential(3,npart).reshape(-1,1)    \n",
    "xs = np.random.uniform(-20,20,size=(npart,2))\n",
    "vs = np.zeros((npart,2)) \n",
    "param = nbody.SimulationParameters()\n",
    "sim = nbody.VerletSimulation(param,xs,vs,ms)\n",
    "\n",
    "plt.scatter(xs[:,0], xs[:,1], s=4*ms)"
   ]
  }
 ],
 "metadata": {
  "kernelspec": {
   "display_name": "Python 3",
   "language": "python",
   "name": "python3"
  },
  "language_info": {
   "codemirror_mode": {
    "name": "ipython",
    "version": 3
   },
   "file_extension": ".py",
   "mimetype": "text/x-python",
   "name": "python",
   "nbconvert_exporter": "python",
   "pygments_lexer": "ipython3",
   "version": "3.8.0"
  },
  "pycharm": {
   "stem_cell": {
    "cell_type": "raw",
    "metadata": {
     "collapsed": false
    },
    "source": []
   }
  }
 },
 "nbformat": 4,
 "nbformat_minor": 2
}
