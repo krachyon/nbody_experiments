{
 "cells": [
  {
   "cell_type": "code",
   "execution_count": 2,
   "metadata": {},
   "outputs": [
    {
     "name": "stdout",
     "output_type": "stream",
     "text": [
      "Using matplotlib backend: Qt5Agg\n",
      "Populating the interactive namespace from numpy and matplotlib\n"
     ]
    }
   ],
   "source": [
    "%pylab\n",
    "import matplotlib.animation as animation\n",
    "plt.ion()\n",
    "numpy.random.seed(seed=424242)"
   ]
  },
  {
   "cell_type": "code",
   "execution_count": 3,
   "metadata": {},
   "outputs": [],
   "source": [
    "from build_release import nbody\n",
    "import importlib\n",
    "importlib.reload(nbody)\n",
    "nbody.init_threads(1)"
   ]
  },
  {
   "cell_type": "code",
   "execution_count": 4,
   "metadata": {},
   "outputs": [],
   "source": [
    "# from IPython.display import HTML\n",
    "from ipywidgets import widgets\n",
    "from ipywidgets.widgets import FloatSlider, Layout, IntSlider, FloatLogSlider\n",
    "%matplotlib qt\n",
    "\n",
    "fig = plt.figure(figsize=(15, 15))\n",
    "ax = plt.axes()\n",
    "\n",
    "datas = ax.scatter([], [], [])\n",
    "plt.tight_layout()\n",
    "\n",
    "\n",
    "def make_animation(G, ε, Δt, friction):\n",
    "\n",
    "    param.G = G\n",
    "    param.easing = ε\n",
    "    param.friction = friction\n",
    "    param.dt = Δt\n",
    "    sim.param = param\n",
    "\n",
    "    datas.set_offsets(xs)\n",
    "    datas.set_sizes(ms.ravel() * 3)\n",
    "\n",
    "    ax.set_xlim(min(xs[:, 0]), max(xs[:, 0]))\n",
    "    ax.set_ylim(min(xs[:, 1]), max(xs[:, 1]))\n",
    "\n",
    "    def animate(i):\n",
    "        sim.step(5)\n",
    "        # if i%100 == 0:\n",
    "        #vs = -vs\n",
    "        return datas,\n",
    "\n",
    "    ani = animation.FuncAnimation(\n",
    "        fig, animate, frames=range(1000), interval=1000/30, blit=False)\n",
    "    return ani\n",
    "\n",
    "\n",
    "sliders = {\n",
    "    'G': FloatSlider(0.1, min=0., max=1., step=0.001, layout=Layout(width='100%'), readout_format='.5e'),\n",
    "    'ε': FloatSlider(0.1, min=0., max=5., step=0.001, layout=Layout(width='100%'), readout_format='.5e'),\n",
    "    'Δt': FloatLogSlider(1e-4, base=10, min=-6, max=-3, step=0.01, layout=Layout(width='100%'), readout_format='.5e'),\n",
    "    'friction': FloatSlider(0.0, min=0., max=0.01, step=0.0001, layout=Layout(width='100%'), readout_format='.5e'),\n",
    "}\n",
    "#widgets.interact(make_animation, **sliders)\n",
    "# make_animation(0.1,0.1,0.001,0.)"
   ]
  },
  {
   "cell_type": "code",
   "execution_count": 59,
   "metadata": {},
   "outputs": [],
   "source": [
    "npart=100\n",
    "ms_orig = np.random.normal(5,1,npart).reshape(-1,1)    \n",
    "xs_orig = np.random.uniform(-20,20,size=(npart,2))\n",
    "vs_orig = np.zeros((npart,2)) "
   ]
  },
  {
   "cell_type": "code",
   "execution_count": 63,
   "metadata": {},
   "outputs": [
    {
     "data": {
      "application/vnd.jupyter.widget-view+json": {
       "model_id": "6958591d79fd470089e86e475b0854e5",
       "version_major": 2,
       "version_minor": 0
      },
      "text/plain": [
       "interactive(children=(FloatSlider(value=0.1, description='G', layout=Layout(width='100%'), max=1.0, readout_fo…"
      ]
     },
     "metadata": {},
     "output_type": "display_data"
    },
    {
     "data": {
      "text/plain": [
       "<function __main__.make_animation(G, ε, Δt, friction)>"
      ]
     },
     "execution_count": 63,
     "metadata": {},
     "output_type": "execute_result"
    }
   ],
   "source": [
    "npart=100\n",
    "ms = ms_orig.copy()\n",
    "xs = xs_orig.copy()\n",
    "vs = vs_orig.copy()\n",
    "param = nbody.SimulationParameters()\n",
    "sim = nbody.EulerSimulation(param,xs,vs,ms)\n",
    "#sim = nbody.VerletSimulation(param,xs,vs,ms)\n",
    "\n",
    "widgets.interact(make_animation, **sliders)"
   ]
  },
  {
   "cell_type": "code",
   "execution_count": 11,
   "metadata": {},
   "outputs": [
    {
     "data": {
      "application/vnd.jupyter.widget-view+json": {
       "model_id": "18b595288ce843bfacd4fb4b9b98e43d",
       "version_major": 2,
       "version_minor": 0
      },
      "text/plain": [
       "interactive(children=(FloatSlider(value=0.1, description='G', layout=Layout(width='100%'), max=1.0, readout_fo…"
      ]
     },
     "metadata": {},
     "output_type": "display_data"
    },
    {
     "data": {
      "text/plain": [
       "<function __main__.make_animation(G, ε, Δt, friction)>"
      ]
     },
     "execution_count": 11,
     "metadata": {},
     "output_type": "execute_result"
    }
   ],
   "source": [
    "npart=100\n",
    "ms = np.array([100.,1])\n",
    "xs = np.array([[0.,0],[5.,0]])\n",
    "vs = np.array([[0,0],[0.,5.]])\n",
    "param = nbody.SimulationParameters()\n",
    "sim = nbody.EulerSimulation(param,xs,vs,ms)\n",
    "\n",
    "widgets.interact(make_animation, **sliders)"
   ]
  },
  {
   "cell_type": "code",
   "execution_count": 18,
   "metadata": {},
   "outputs": [
    {
     "data": {
      "text/plain": [
       "<matplotlib.collections.PathCollection at 0x7f6f9c1d5370>"
      ]
     },
     "execution_count": 18,
     "metadata": {},
     "output_type": "execute_result"
    }
   ],
   "source": [
    "npart = 100\n",
    "ms = np.random.exponential(3,npart).reshape(-1,1)    \n",
    "xs = np.random.uniform(-20,20,size=(npart,2))\n",
    "vs = np.zeros((npart,2)) \n",
    "param = nbody.SimulationParameters()\n",
    "sim = nbody.VerletSimulation(param,xs,vs,ms)\n",
    "\n",
    "plt.scatter(xs[:,0], xs[:,1], s=4*ms)"
   ]
  },
  {
   "cell_type": "code",
   "execution_count": 21,
   "metadata": {},
   "outputs": [
    {
     "data": {
      "text/plain": [
       "<matplotlib.collections.PathCollection at 0x7f6f9c2362b0>"
      ]
     },
     "execution_count": 21,
     "metadata": {},
     "output_type": "execute_result"
    }
   ],
   "source": [
    "sim.step(10)\n",
    "plt.scatter(xs[:,0], xs[:,1], s=4*ms)"
   ]
  },
  {
   "cell_type": "code",
   "execution_count": 27,
   "metadata": {},
   "outputs": [
    {
     "data": {
      "text/plain": [
       "<matplotlib.collections.PathCollection at 0x7f6f9404e700>"
      ]
     },
     "execution_count": 27,
     "metadata": {},
     "output_type": "execute_result"
    }
   ],
   "source": [
    "npart = 100\n",
    "ms = np.array([1.,10.])\n",
    "xs = np.array([[1.,0.],[0.,0.]])\n",
    "vs = np.zeros((2,2)) \n",
    "param = nbody.SimulationParameters()\n",
    "sim = nbody.VerletSimulation(param,xs,vs,ms)\n",
    "\n",
    "plt.scatter(xs[:,0], xs[:,1], s=4*ms)"
   ]
  },
  {
   "cell_type": "code",
   "execution_count": 31,
   "metadata": {},
   "outputs": [],
   "source": [
    "for i in range(10):\n",
    "    sim.step(1)\n",
    "    plt.scatter(xs[:,0], xs[:,1], s=4*ms)"
   ]
  },
  {
   "cell_type": "code",
   "execution_count": null,
   "metadata": {},
   "outputs": [],
   "source": []
  }
 ],
 "metadata": {
  "kernelspec": {
   "display_name": "Python 3",
   "language": "python",
   "name": "python3"
  },
  "language_info": {
   "codemirror_mode": {
    "name": "ipython",
    "version": 3
   },
   "file_extension": ".py",
   "mimetype": "text/x-python",
   "name": "python",
   "nbconvert_exporter": "python",
   "pygments_lexer": "ipython3",
   "version": "3.8.0"
  }
 },
 "nbformat": 4,
 "nbformat_minor": 2
}
